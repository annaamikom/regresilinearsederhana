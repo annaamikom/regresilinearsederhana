{
  "nbformat": 4,
  "nbformat_minor": 0,
  "metadata": {
    "colab": {
      "name": "Materi Pertemuan 9- Regresi linear Sederhana",
      "provenance": [],
      "collapsed_sections": []
    },
    "kernelspec": {
      "name": "python3",
      "display_name": "Python 3"
    },
    "language_info": {
      "name": "python"
    }
  },
  "cells": [
    {
      "cell_type": "markdown",
      "metadata": {
        "id": "IFLq7gfrcodR"
      },
      "source": [
        "# **Regresi Linear Sederhana**\n",
        "*Menggunakan Python*\n",
        "\n",
        "Contoh kasus: Prediksi Gaji berdasarkan Tahun Bekerja\n",
        "Dataset dapat diakses di: https://drive.google.com/file/d/1aSX6KOE2ziTOiapQgbWuGiqzGK3Ow594/view?usp=sharing\n",
        "\n",
        "Tahapan dalam penggunaan **Simple Linear Regression** di artikel kali ini adalah sebagai berikut:\n",
        "1. Import Library \n",
        "2. Load Dataset\n",
        "3. Check the General Information\n",
        "4. Handling Missing Values\n",
        "5. Exploratory Data Analysis (EDA)\n",
        "6. Splitting Data\n",
        "7. Modelling\n",
        "8. Evaluation\n",
        "9. Prediction"
      ]
    },
    {
      "cell_type": "markdown",
      "metadata": {
        "id": "g9ptGeFl7YgD"
      },
      "source": [
        "# 1.  Import Library"
      ]
    },
    {
      "cell_type": "code",
      "metadata": {
        "id": "iY3DLG36cywt"
      },
      "source": [
        "# Impor library yang dibutuhkan\n",
        "import numpy as np\n",
        "import matplotlib.pyplot as plt\n",
        "import pandas as pd\n"
      ],
      "execution_count": null,
      "outputs": []
    },
    {
      "cell_type": "markdown",
      "metadata": {
        "id": "FhpKDxU67nbX"
      },
      "source": [
        "# 2. Load Dataset"
      ]
    },
    {
      "cell_type": "code",
      "metadata": {
        "id": "9uTSY4Tacz4k"
      },
      "source": [
        "# Impor dataset\n",
        "url = 'https://drive.google.com/file/d/1aSX6KOE2ziTOiapQgbWuGiqzGK3Ow594/view?usp=sharing'\n",
        "file_id=url.split('/')[-2]\n",
        "dwn_url='https://drive.google.com/uc?id=' + file_id\n",
        "\n",
        "dataset = pd.read_csv(dwn_url)\n",
        "print(dataset.tail())"
      ],
      "execution_count": null,
      "outputs": []
    },
    {
      "cell_type": "markdown",
      "metadata": {
        "id": "8HEVSrTL74w7"
      },
      "source": [
        "# 3. Check the General Information\n",
        "\n",
        "Melihat informasi Umum Ini digunakan untuk mengenali data kita."
      ]
    },
    {
      "cell_type": "code",
      "metadata": {
        "id": "Q2YnElELdPcq"
      },
      "source": [
        "#untuk melihat ukuran data\n",
        "dataset.shape"
      ],
      "execution_count": null,
      "outputs": []
    },
    {
      "cell_type": "code",
      "metadata": {
        "id": "cHYHRIPidTPk"
      },
      "source": [
        "#Melihat informasi data kita mulai dari jumlah data, tipe data, memory yang digunakan dll.\n",
        "dataset.info()"
      ],
      "execution_count": null,
      "outputs": []
    },
    {
      "cell_type": "code",
      "metadata": {
        "id": "XfauBu-wdXBA"
      },
      "source": [
        "#Melihat statistical description dari data mulai dari mean, kuartil, standard deviation dll.\n",
        "dataset.describe()"
      ],
      "execution_count": null,
      "outputs": []
    },
    {
      "cell_type": "markdown",
      "metadata": {
        "id": "jb0P3-BJ8QQk"
      },
      "source": [
        "# 4. Handling Missing Values"
      ]
    },
    {
      "cell_type": "code",
      "metadata": {
        "id": "uTO15Y4hdZzm"
      },
      "source": [
        "#Mencari dan menangani missing values.\n",
        "#Ternyata data kita tidak ada missing values.\n",
        "dataset.isnull().sum()"
      ],
      "execution_count": null,
      "outputs": []
    },
    {
      "cell_type": "markdown",
      "metadata": {
        "id": "u89VQCIS8wud"
      },
      "source": [
        "# 5. Exploratory Data Analysis (EDA)\n",
        "\n",
        "digunakan untuk lebih mengenal data kita dan menemukan insights dari data."
      ]
    },
    {
      "cell_type": "code",
      "metadata": {
        "id": "zon0x69mdc04"
      },
      "source": [
        "#Melakukan Exploratory Data Analysis (EDA) \n",
        "#Univariate analysis Tahun_bekerja.\n",
        "#Melihat distribusi dari Tahun_bekerja.\n",
        "f = plt.figure(figsize=(12,4))\n",
        "f.add_subplot(1,2,1)\n",
        "dataset['Tahun_bekerja'].plot(kind='kde')\n",
        "f.add_subplot(1,2,2)\n",
        "plt.boxplot(dataset['Tahun_bekerja'])\n",
        "plt.show()"
      ],
      "execution_count": null,
      "outputs": []
    },
    {
      "cell_type": "markdown",
      "metadata": {
        "id": "DgflFwQEdgtj"
      },
      "source": [
        "\n",
        "\n",
        "\n",
        "*  Dapat dilihat bahwa mean dan median dari Tahun_bekerja terpusat di sekitar nilai 2.5-5.\n",
        "*  tidak terdapat outlier/pencilan data yang bisa dilihat di boxplot.\n",
        "\n"
      ]
    },
    {
      "cell_type": "code",
      "metadata": {
        "id": "I91hwwzydrtg"
      },
      "source": [
        "#Melakukan Exploratory Data Analysis (EDA) untuk lebih mengenal data kita dan menemukan insights dari data.\n",
        "#Univariate analysis Gaji.\n",
        "#Melihat distribusi dari Gaji.\n",
        "f = plt.figure(figsize=(12,4))\n",
        "f.add_subplot(1,2,1)\n",
        "dataset['Gaji'].plot(kind='kde')\n",
        "f.add_subplot(1,2,2)\n",
        "plt.boxplot(dataset['Gaji'])\n",
        "plt.show()"
      ],
      "execution_count": null,
      "outputs": []
    },
    {
      "cell_type": "markdown",
      "metadata": {
        "id": "aUTyMVP_dvvU"
      },
      "source": [
        "\n",
        "\n",
        "*   Dapat dilihat bahwa mean dan median dari Tahun_bekerja terpusat di sekitar nilai 50000.\n",
        "\n",
        "*   tidak terdapat outlier/pencilan data yang bisa dilihat di boxplot.\n",
        "\n"
      ]
    },
    {
      "cell_type": "code",
      "metadata": {
        "id": "DoJsvEL4Acou"
      },
      "source": [
        "#Bivariate analysis Tahun_bekerja dan Gaji.\n",
        "#Menggunakan scatter plot.\n",
        "plt.scatter(dataset['Tahun_bekerja'], dataset['Gaji'])\n",
        "plt.xlabel('Tahun_bekerja')\n",
        "plt.ylabel('Gaji')\n",
        "plt.title('Scatter Plot Tahun_bekerja vs Gaji')\n",
        "plt.show()"
      ],
      "execution_count": null,
      "outputs": []
    },
    {
      "cell_type": "code",
      "metadata": {
        "id": "YEWtMFHcBHs0"
      },
      "source": [
        "#Mengetahui nilai korelasi dari Tahun_bekerja dan Gaji.\n",
        "dataset.corr()"
      ],
      "execution_count": null,
      "outputs": []
    },
    {
      "cell_type": "markdown",
      "metadata": {
        "id": "cx06jjvJ91on"
      },
      "source": [
        "# 6. Splitting Data"
      ]
    },
    {
      "cell_type": "code",
      "metadata": {
        "id": "a0-WUycld50a"
      },
      "source": [
        "#ambil konten data saja, buang header nya\n",
        "#X sebagai variabel indepedent/variable bebas/variabel independent/ predictor, yakni Tahun bekerja\n",
        "X = dataset.iloc[:, :-1].values\n",
        "print(X)"
      ],
      "execution_count": null,
      "outputs": []
    },
    {
      "cell_type": "code",
      "metadata": {
        "id": "Oq-bfnyHeDg_"
      },
      "source": [
        "#ambil konten data saja, buang header nya\n",
        "#Y sebagai variabel dependent/variable terikat/variabel tak bebas/ response, yakni Gaji\n",
        "Y = dataset.iloc[:, 1].values\n",
        "print(Y)"
      ],
      "execution_count": null,
      "outputs": []
    },
    {
      "cell_type": "code",
      "metadata": {
        "id": "EFlu-Kc_eIOc"
      },
      "source": [
        "# Membagi data menjadi Training Set dan Test Set\n",
        "# import sckit learn  untuk Machine Learning\n",
        "from sklearn.model_selection import train_test_split\n",
        "X_train, X_test, Y_train, Y_test = train_test_split(X, Y, test_size = 0.3, random_state = 0)\n",
        "print(X_train.shape)\n",
        "print(X_train)"
      ],
      "execution_count": null,
      "outputs": []
    },
    {
      "cell_type": "markdown",
      "metadata": {
        "id": "mRUJSmby-O4o"
      },
      "source": [
        "# 7. Modelling"
      ]
    },
    {
      "cell_type": "code",
      "metadata": {
        "id": "-6IlxI0qeQBM"
      },
      "source": [
        "# panggil modul LinearRegression untuk menjalankan regresi liear\n",
        "from sklearn.linear_model import LinearRegression\n",
        "# membuat objek regresi linear\n",
        "lin_reg = LinearRegression()\n",
        "# membangun model (training model dari data set yang sudah kita split)\n",
        "lin_reg.fit(X_train, Y_train)"
      ],
      "execution_count": null,
      "outputs": []
    },
    {
      "cell_type": "code",
      "metadata": {
        "id": "kOmQkwjdeUZ6"
      },
      "source": [
        "# cari tau nilai slope/koefisien (θi ) dan intercept (θ0).\n",
        "# ŷ=θ0+θiΧi+Ɛi\n",
        "\n",
        "print(lin_reg.coef_)\n",
        "print(lin_reg.intercept_)"
      ],
      "execution_count": null,
      "outputs": []
    },
    {
      "cell_type": "markdown",
      "metadata": {
        "id": "fVHi8h3l-gsj"
      },
      "source": [
        "8. Evaluation"
      ]
    },
    {
      "cell_type": "code",
      "metadata": {
        "id": "XGKENNgkeXKa"
      },
      "source": [
        "# memprediksi model dengan test set(melakukan proses testing)\n",
        "Y_prediksi = lin_reg.predict(X_test)"
      ],
      "execution_count": null,
      "outputs": []
    },
    {
      "cell_type": "code",
      "metadata": {
        "id": "01sBDzCpBqXu"
      },
      "source": [
        "#Lakukan evaluasi performa\n",
        "#tampilkan hasil dari data aktual dan data prediksi\n",
        "df = pd.DataFrame({'aktual': Y_test, 'Prediksi': Y_prediksi})\n",
        "print(df)"
      ],
      "execution_count": null,
      "outputs": []
    },
    {
      "cell_type": "code",
      "metadata": {
        "id": "MaGiLdnrCwN6"
      },
      "source": [
        "#visualisasi galat/ selisih data aktual dengan data prediksi\n",
        "df.plot(kind='bar',figsize=(12,4))\n",
        "plt.grid(which='major', linestyle='-', linewidth='0.5', color='green')\n",
        "plt.grid(which='minor', linestyle=':', linewidth='0.5', color='black')\n",
        "plt.show()"
      ],
      "execution_count": null,
      "outputs": []
    },
    {
      "cell_type": "code",
      "metadata": {
        "id": "OelPIJaFeaM_"
      },
      "source": [
        "#melakukan evaluasi/ pengukuran performa algoritma\n",
        "#menghitung nilai MAE, MSE dan RMSE\n",
        "from sklearn import metrics\n",
        "print('Mean Absolute Error:', metrics.mean_absolute_error(Y_test, Y_prediksi))\n",
        "print('Mean Squared Error:', metrics.mean_squared_error(Y_test, Y_prediksi))\n",
        "print('Root Mean Squared Error:', np.sqrt(metrics.mean_squared_error(Y_test, Y_prediksi)))"
      ],
      "execution_count": null,
      "outputs": []
    },
    {
      "cell_type": "code",
      "metadata": {
        "id": "4NzUWm1ben1r"
      },
      "source": [
        "#visualisasi data training\n",
        "\n",
        "plt.scatter(X_train, Y_train)\n",
        "plt.plot(X_train, lin_reg.predict(X_train), c='red')\n",
        "plt.xlabel('Tahun Bekerja')\n",
        "plt.ylabel('Gaji')\n",
        "plt.title('Prediksi Gaji Berdasarkan tahun bekerja (training set)')"
      ],
      "execution_count": null,
      "outputs": []
    },
    {
      "cell_type": "code",
      "metadata": {
        "id": "NKwEp4KSepJs"
      },
      "source": [
        "#visualisasi data dari data testing\n",
        "plt.scatter(X_test, Y_test)\n",
        "plt.plot(X_test, Y_prediksi, c='r')\n",
        "plt.xlabel('Tahun Bekerja')\n",
        "plt.ylabel('Gaji')\n",
        "plt.title('Prediksi Gaji Berdasarkan tahun bekerja(testing set)')"
      ],
      "execution_count": null,
      "outputs": []
    },
    {
      "cell_type": "markdown",
      "metadata": {
        "id": "oixcP_Mq_QPS"
      },
      "source": [
        "# 9. Prediction"
      ]
    },
    {
      "cell_type": "code",
      "metadata": {
        "id": "MX3Kb2SIev98"
      },
      "source": [
        "# mencoba studi kasus, misal kita prediksi gaji seseorang yang telah bekerja selama 2.7, 5.5, 7.5 tahun\n",
        "print('Gaji Seseorang setelah bekerja selama 2.7 tahun adalah',lin_reg.predict([[2.7]]))\n",
        "print('Gaji Seseorang setelah bekerja selama 5.5 tahun adalah',lin_reg.predict([[5.5]]))\n",
        "print('Gaji Seseorang setelah bekerja selama 7.5 tahun adalah',lin_reg.predict([[7.5]]))"
      ],
      "execution_count": null,
      "outputs": []
    },
    {
      "cell_type": "markdown",
      "metadata": {
        "id": "bjLvqwJAFTOC"
      },
      "source": [
        "# References\n",
        "\n",
        "1. https://megabagus.id \n",
        "2. https://medium.com/@adiptamartulandi\n",
        "3. https://stackabuse.com/linear-regression-in-python-with-scikit-learn/"
      ]
    }
  ]
}